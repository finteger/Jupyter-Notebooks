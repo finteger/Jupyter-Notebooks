{
 "cells": [
  {
   "cell_type": "code",
   "execution_count": 13,
   "metadata": {},
   "outputs": [
    {
     "data": {
      "text/plain": [
       "'\\nassume the following dataset\\n---------------------------------\\n | Size (sq.ft.)  |  Price ($) | \\n  1000             300,000\\n  1500             450,000\\n  2000             500,000\\n  2500             650,000\\n  3000             700,000\\n'"
      ]
     },
     "execution_count": 13,
     "metadata": {},
     "output_type": "execute_result"
    }
   ],
   "source": [
    "#map square feet of house to its price\n",
    "\n",
    "'''\n",
    "assume the following dataset\n",
    "---------------------------------\n",
    " | Size (sq.ft.)  |  Price ($) | \n",
    "  1000             300,000\n",
    "  1500             450,000\n",
    "  2000             500,000\n",
    "  2500             650,000\n",
    "  3000             700,000\n",
    "'''"
   ]
  },
  {
   "cell_type": "code",
   "execution_count": 14,
   "metadata": {},
   "outputs": [],
   "source": [
    "import numpy as np\n",
    "import matplotlib.pyplot as plt"
   ]
  },
  {
   "cell_type": "code",
   "execution_count": 15,
   "metadata": {},
   "outputs": [
    {
     "name": "stdout",
     "output_type": "stream",
     "text": [
      "Predicted price for a 2200 sq. ft. house: $560000.00\n"
     ]
    }
   ],
   "source": [
    "#Dataset \n",
    "sizes = np.array([1000, 1500, 2000, 2500, 3000]) #input 'x'\n",
    "prices = np.array([300000, 450000, 500000, 650000, 700000])  #output 'y'\n",
    "\n",
    "#Calculate the slope (m) and intercept (b) using polytfit method\n",
    "m, b = np.polyfit(sizes, prices, 1)\n",
    "\n",
    "#Predict price of the house with a given size\n",
    "def predict_price(size):\n",
    "    return m * size + b\n",
    "\n",
    "#Predict the price of a house if the size is 2200 sq. ft.\n",
    "house_size = 2200\n",
    "predicted_price = predict_price(house_size)\n",
    "print(f\"Predicted price for a {house_size} sq. ft. house: ${predicted_price:.2f}\")\n"
   ]
  },
  {
   "cell_type": "code",
   "execution_count": null,
   "metadata": {},
   "outputs": [],
   "source": [
    "#Visualization with matplotlib\n",
    "plt.scatter(sizes, prices, color=\"blue\", label=\"Data Points\")\n",
    "\n",
    "predicted_prices = m * sizes + b\n",
    "\n",
    "#plot the fitted line\n",
    "plt.plot(sizes, predicted_prices, color=\"red\", label=\"Fitted Line\")\n",
    "\n",
    "#Creating the table\n",
    "plt.xlabel(\"Size of house in sq. ft.\")\n",
    "plt.ylabel(\"Price of House\")\n",
    "plt.title('Predicted Home Prices')\n",
    "plt.legend()\n",
    "plt.show()\n"
   ]
  }
 ],
 "metadata": {
  "kernelspec": {
   "display_name": "base",
   "language": "python",
   "name": "python3"
  },
  "language_info": {
   "codemirror_mode": {
    "name": "ipython",
    "version": 3
   },
   "file_extension": ".py",
   "mimetype": "text/x-python",
   "name": "python",
   "nbconvert_exporter": "python",
   "pygments_lexer": "ipython3",
   "version": "3.11.5"
  }
 },
 "nbformat": 4,
 "nbformat_minor": 2
}
