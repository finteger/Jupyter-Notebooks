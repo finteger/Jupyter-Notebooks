{
 "cells": [
  {
   "cell_type": "code",
   "execution_count": 10,
   "metadata": {},
   "outputs": [
    {
     "data": {
      "text/plain": [
       "'\\nassume the following dataset\\n---------------------------------\\n | Size (sq.ft.)  |  Price ($) | \\n  1000             300,000\\n  1500             450,000\\n  2000             500,000\\n  2500             650,000\\n  3000             700,000\\n'"
      ]
     },
     "execution_count": 10,
     "metadata": {},
     "output_type": "execute_result"
    }
   ],
   "source": [
    "#map square feet of house to its price\n",
    "\n",
    "'''\n",
    "assume the following dataset\n",
    "---------------------------------\n",
    " | Size (sq.ft.)  |  Price ($) | \n",
    "  1000             300,000\n",
    "  1500             450,000\n",
    "  2000             500,000\n",
    "  2500             650,000\n",
    "  3000             700,000\n",
    "'''"
   ]
  },
  {
   "cell_type": "code",
   "execution_count": 11,
   "metadata": {},
   "outputs": [],
   "source": [
    "import numpy as np"
   ]
  },
  {
   "cell_type": "code",
   "execution_count": null,
   "metadata": {},
   "outputs": [
    {
     "ename": "ValueError",
     "evalue": "Invalid format specifier ', .2f' for object of type 'float'",
     "output_type": "error",
     "traceback": [
      "\u001b[1;31m---------------------------------------------------------------------------\u001b[0m",
      "\u001b[1;31mValueError\u001b[0m                                Traceback (most recent call last)",
      "Cell \u001b[1;32mIn[12], line 15\u001b[0m\n\u001b[0;32m     13\u001b[0m house_size \u001b[38;5;241m=\u001b[39m \u001b[38;5;241m2200\u001b[39m\n\u001b[0;32m     14\u001b[0m predicted_price \u001b[38;5;241m=\u001b[39m predict_price(house_size)\n\u001b[1;32m---> 15\u001b[0m \u001b[38;5;28mprint\u001b[39m(\u001b[38;5;124mf\u001b[39m\u001b[38;5;124m\"\u001b[39m\u001b[38;5;124mPredicted price for a \u001b[39m\u001b[38;5;132;01m{\u001b[39;00mhouse_size\u001b[38;5;132;01m}\u001b[39;00m\u001b[38;5;124m sq. ft. house: $\u001b[39m\u001b[38;5;132;01m{\u001b[39;00mpredicted_price\u001b[38;5;132;01m:\u001b[39;00m\u001b[38;5;124m, .2f\u001b[39m\u001b[38;5;132;01m}\u001b[39;00m\u001b[38;5;124m\"\u001b[39m)\n",
      "\u001b[1;31mValueError\u001b[0m: Invalid format specifier ', .2f' for object of type 'float'"
     ]
    }
   ],
   "source": [
    "#Dataset \n",
    "sizes = np.array([1000, 1500, 2000, 2500, 3000]) #input 'x'\n",
    "prices = np.array([300000, 450000, 500000, 650000, 700000])  #output 'y'\n",
    "\n",
    "#Calculate the slope (m) and intercept (b) using polytfit method\n",
    "m, b = np.polyfit(sizes, prices, 1)\n",
    "\n",
    "#Predict price of the house with a given size\n",
    "def predict_price(size):\n",
    "    return m * size + b\n",
    "\n",
    "#Predict the price of a house if the size is 2200 sq. ft.\n",
    "house_size = 2200\n",
    "predicted_price = predict_price(house_size)\n",
    "print(f\"Predicted price for a {house_size} sq. ft. house: ${predicted_price:.2f}\")\n"
   ]
  }
 ],
 "metadata": {
  "kernelspec": {
   "display_name": "base",
   "language": "python",
   "name": "python3"
  },
  "language_info": {
   "codemirror_mode": {
    "name": "ipython",
    "version": 3
   },
   "file_extension": ".py",
   "mimetype": "text/x-python",
   "name": "python",
   "nbconvert_exporter": "python",
   "pygments_lexer": "ipython3",
   "version": "3.11.5"
  }
 },
 "nbformat": 4,
 "nbformat_minor": 2
}
